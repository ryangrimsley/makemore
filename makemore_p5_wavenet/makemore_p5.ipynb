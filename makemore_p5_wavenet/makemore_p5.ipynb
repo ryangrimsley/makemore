{
 "cells": [
  {
   "cell_type": "code",
   "execution_count": 2,
   "id": "b83e6645-c666-4b23-9c38-e7fa55e0376e",
   "metadata": {},
   "outputs": [],
   "source": [
    "import torch\n",
    "import torch.nn.functional as F\n",
    "import matplotlib.pyplot as plt # for making figures\n",
    "import numpy as np\n",
    "%matplotlib inline"
   ]
  },
  {
   "cell_type": "code",
   "execution_count": 3,
   "id": "8300eab2-def8-4092-908e-b096c6f8611b",
   "metadata": {},
   "outputs": [
    {
     "data": {
      "text/plain": [
       "['emma', 'olivia', 'ava', 'isabella', 'sophia', 'charlotte', 'mia', 'amelia']"
      ]
     },
     "execution_count": 3,
     "metadata": {},
     "output_type": "execute_result"
    }
   ],
   "source": [
    "# read in all the words\n",
    "words = open('../names.txt', 'r').read().splitlines()\n",
    "words[:8]"
   ]
  },
  {
   "cell_type": "code",
   "execution_count": 4,
   "id": "4eb82107-29f4-449f-b901-39dbbcbe22d3",
   "metadata": {},
   "outputs": [
    {
     "data": {
      "text/plain": [
       "32033"
      ]
     },
     "execution_count": 4,
     "metadata": {},
     "output_type": "execute_result"
    }
   ],
   "source": [
    "len(words)"
   ]
  },
  {
   "cell_type": "code",
   "execution_count": 5,
   "id": "07511509-b3c1-4f96-95ab-485fc129d01f",
   "metadata": {},
   "outputs": [
    {
     "name": "stdout",
     "output_type": "stream",
     "text": [
      "{1: 'a', 2: 'b', 3: 'c', 4: 'd', 5: 'e', 6: 'f', 7: 'g', 8: 'h', 9: 'i', 10: 'j', 11: 'k', 12: 'l', 13: 'm', 14: 'n', 15: 'o', 16: 'p', 17: 'q', 18: 'r', 19: 's', 20: 't', 21: 'u', 22: 'v', 23: 'w', 24: 'x', 25: 'y', 26: 'z', 0: '.'}\n",
      "27\n"
     ]
    }
   ],
   "source": [
    "# build vocabulary of characters and mappings to/from integers\n",
    "chars = sorted(list(set(''.join(words))))\n",
    "stoi = {s:i+1 for i, s in enumerate(chars)}\n",
    "stoi['.'] = 0\n",
    "itos = {i:s for s, i in stoi.items()}\n",
    "vocab_size = len(itos)\n",
    "print(itos)\n",
    "print(vocab_size)"
   ]
  },
  {
   "cell_type": "code",
   "execution_count": 14,
   "id": "bf640a95-7b0f-49c6-ad4a-96f2b00cfb9b",
   "metadata": {},
   "outputs": [
    {
     "name": "stdout",
     "output_type": "stream",
     "text": [
      "torch.Size([182580, 8]) torch.Size([182580])\n",
      "torch.Size([22767, 8]) torch.Size([22767])\n",
      "torch.Size([22799, 8]) torch.Size([22799])\n"
     ]
    }
   ],
   "source": [
    "# build dataset\n",
    "#size of the context\n",
    "block_size = 8\n",
    "\n",
    "def build_dataset(words):\n",
    "\tX, Y = [], []\n",
    "\n",
    "\tfor w in words:\n",
    "\t\tcontext = [0] * block_size\n",
    "\t\tfor ch in w + '.':\n",
    "\t\t\tix = stoi[ch] # get integer value of char\n",
    "\t\t\tX.append(context) # add current context to X, the set of all contexts\n",
    "\t\t\tY.append(ix) # add char after context to Y, the output based on corresponding context\n",
    "\t\t\tcontext = context[1:] + [ix] # drop the first thing in the context and add the last to the end\n",
    "\tX = torch.tensor(X)\n",
    "\tY = torch.tensor(Y)\n",
    "\tprint(X.shape, Y.shape)\n",
    "\treturn X, Y\n",
    "\n",
    "#make training, validation, and test training sets\n",
    "import random\n",
    "random.seed(42)\n",
    "random.shuffle(words)\n",
    "n1 = int(0.8*len(words))\n",
    "n2 = int(0.9*len(words))\n",
    "\n",
    "Xtr, Ytr = build_dataset(words[:n1])\n",
    "Xdev, Ydev = build_dataset(words[n1:n2])\n",
    "Xtest, Ytest = build_dataset(words[n2:])\n"
   ]
  },
  {
   "cell_type": "code",
   "execution_count": 83,
   "id": "01705e7b-116c-4cb0-8cf5-01e3e6c9f380",
   "metadata": {},
   "outputs": [],
   "source": [
    "class Linear:\n",
    "\t\tdef __init__(self, fan_in, fan_out, bias=True):\n",
    "\t\t\t\t# divide by sqr(fan_in) to get better distrubtion at start\n",
    "\t\t\t\tself.weight = torch.randn((fan_in, fan_out)) / fan_in**.5\n",
    "\t\t\t\tself.bias = torch.zeros(fan_out) if bias else None\n",
    "\t\tdef __call__(self,x):\n",
    "\t\t\t\tself.out = x @ self.weight\n",
    "\t\t\t\tif self.bias is not None:\n",
    "\t\t\t\t\t\tself.out += self.bias\n",
    "\t\t\t\treturn self.out\n",
    "\t\tdef parameters(self):\n",
    "\t\t\t\treturn [self.weight] + ([] if self.bias is None else [self.bias])\n",
    "\n",
    "class BatchNorm1d:\n",
    "\t\n",
    "\tdef __init__(self, dim, eps=1e-5, momentum=0.1):\n",
    "\t\tself.eps = eps\n",
    "\t\tself.momentum = momentum\n",
    "\t\tself.training = True\n",
    "\t\t# parameters (trained with backprop)\n",
    "\t\tself.gamma = torch.ones(dim)\n",
    "\t\tself.beta = torch.zeros(dim)\n",
    "\t\t# buffers (trained with a running 'momentum update')\n",
    "\t\tself.running_mean = torch.zeros(dim)\n",
    "\t\tself.running_var = torch.ones(dim)\n",
    "\t\n",
    "\tdef __call__(self, x):\n",
    "\t\t# calculate the forward pass\n",
    "\t\tif self.training:\n",
    "\t\t\tif x.ndim == 2:\n",
    "\t\t\t\tdim = 0\n",
    "\t\t\telif x.ndim == 3:\n",
    "\t\t\t\tdim = (0,1)\n",
    "\t\t\txmean = x.mean(dim, keepdim=True) # batch mean\n",
    "\t\t\txvar = x.var(dim, keepdim=True) # batch variance\n",
    "\t\telse:\n",
    "\t\t\txmean = self.running_mean\n",
    "\t\t\txvar = self.running_var\n",
    "\t\txhat = (x - xmean) / torch.sqrt(xvar + self.eps) # normalize to unit variance\n",
    "\t\tself.out = self.gamma * xhat + self.beta\n",
    "\t\t# update the buffers\n",
    "\t\tif self.training:\n",
    "\t\t\twith torch.no_grad():\n",
    "\t\t\t\tself.running_mean = (1 - self.momentum) * self.running_mean + self.momentum * xmean\n",
    "\t\t\t\tself.running_var = (1 - self.momentum) * self.running_var + self.momentum * xvar\n",
    "\t\treturn self.out\n",
    "\t\n",
    "\tdef parameters(self):\n",
    "\t\treturn [self.gamma, self.beta]\n",
    "\n",
    "class Tanh:\n",
    "\t\tdef __call__(self, x):\n",
    "\t\t\t\tself.out = torch.tanh(x)\n",
    "\t\t\t\treturn self.out\n",
    "\t\tdef parameters(self):\n",
    "\t\t\t\treturn []\n",
    "\n",
    "class Embedding:\n",
    "\tdef __init__(self, num_embeddings, embedding_dim):\n",
    "\t\tself.weight = torch.randn((num_embeddings, embedding_dim))\n",
    "\t\n",
    "\tdef __call__(self, IX):\n",
    "\t\tself.out = self.weight[IX]\n",
    "\t\treturn self.out\n",
    "\t\n",
    "\tdef parameters(self):\n",
    "\t\treturn [self.weight]\n",
    "\n",
    "# flattens some n consecutive elements in the last dimension\t\n",
    "class FlattenConsecutive:\n",
    "\tdef __init__(self, n):\n",
    "\t\t\"\"\"\n",
    "\t\tn: num of consecutive elems to concatenate in the last dimension(2nd here(0,1,2 dims))\n",
    "\t\t\"\"\"\n",
    "\t\tself.n = n\n",
    "\n",
    "\tdef __call__(self, x):\n",
    "\t\tB, T, C = x.shape\n",
    "\t\t#               use T//n instead of -1 bc -1 could cause errors ?? T//n is the expected value\t\n",
    "\t\tx = x.view(B, T//self.n, C * self.n)\n",
    "\t\tif x.shape[1] == 1:\n",
    "\t\t\t# if 1st dimension is 1, squeeze it out and return 2d tensor\n",
    "\t\t\tx = x.squeeze(1)\n",
    "\t\tself.out = x\n",
    "\t\treturn self.out\n",
    "\n",
    "\tdef parameters(self):\n",
    "\t\treturn []\n",
    "\n",
    "class Sequential:\n",
    "\tdef __init__(self, layers):\n",
    "\t\tself.layers = layers\n",
    "\n",
    "\tdef __call__(self, x):\n",
    "\t\tfor layer in self.layers:\n",
    "\t\t\tx = layer(x)\n",
    "\t\tself.out = x\n",
    "\t\treturn self.out\n",
    "\t\n",
    "\t# all parameters \n",
    "\tdef parameters(self):\n",
    "\t\treturn [p for layer in self.layers for p in layer.parameters()]\n",
    "\n"
   ]
  },
  {
   "cell_type": "code",
   "execution_count": 84,
   "id": "550cf20e",
   "metadata": {},
   "outputs": [
    {
     "data": {
      "text/plain": [
       "<torch._C.Generator at 0x1148a4fb0>"
      ]
     },
     "execution_count": 84,
     "metadata": {},
     "output_type": "execute_result"
    }
   ],
   "source": [
    "torch.manual_seed(42)"
   ]
  },
  {
   "cell_type": "code",
   "execution_count": null,
   "id": "5445dbc8-3b57-428e-8767-daa3d54d796f",
   "metadata": {},
   "outputs": [
    {
     "name": "stdout",
     "output_type": "stream",
     "text": [
      "22397\n"
     ]
    }
   ],
   "source": [
    "# Constructing the network\n",
    "\n",
    "# i didnt use his ending params bc it would take longer than i want to wait to train\n",
    "# the dimensionality of the character embedding vectors\n",
    "n_embd = 10 # in video he ends with 24\n",
    "# the number of neurons in the hidden layer of the MLP\n",
    "n_hidden = 68 # in video he ends with 128\n",
    "\n",
    "model = Sequential([\n",
    "\t\tEmbedding(vocab_size, n_embd), \n",
    "\t\tFlattenConsecutive(2), Linear(n_embd*2, n_hidden, bias=False), BatchNorm1d(n_hidden), Tanh(),\n",
    "\t\tFlattenConsecutive(2), Linear(n_hidden*2, n_hidden, bias=False), BatchNorm1d(n_hidden), Tanh(),\n",
    "\t\tFlattenConsecutive(2), Linear(n_hidden*2, n_hidden, bias=False), BatchNorm1d(n_hidden), Tanh(),\n",
    "\t\tLinear(n_hidden, vocab_size),\n",
    "])\n",
    "\n",
    "# parameter init\n",
    "with torch.no_grad():\n",
    "\t\tmodel.layers[-1].weight *= .1 # make last layer less confident\n",
    " \n",
    "parameters = model.parameters()\n",
    "print(sum(p.nelement() for p in parameters)) # number of parameters in total\n",
    "for p in parameters:\n",
    "\t\tp.requires_grad = True"
   ]
  },
  {
   "cell_type": "code",
   "execution_count": 86,
   "id": "2974bcbc",
   "metadata": {},
   "outputs": [],
   "source": [
    "ix = torch.randint(0, Xtr.shape[0], (4,))\n",
    "Xb, Yb = Xtr[ix], Ytr[ix]\n",
    "logits = model(Xb)"
   ]
  },
  {
   "cell_type": "code",
   "execution_count": 87,
   "id": "c57db18a",
   "metadata": {},
   "outputs": [
    {
     "name": "stdout",
     "output_type": "stream",
     "text": [
      "Embedding : (4, 8, 10)\n",
      "FlattenConsecutive : (4, 4, 20)\n",
      "Linear : (4, 4, 68)\n",
      "BatchNorm1d : (4, 4, 68)\n",
      "Tanh : (4, 4, 68)\n",
      "FlattenConsecutive : (4, 2, 136)\n",
      "Linear : (4, 2, 68)\n",
      "BatchNorm1d : (4, 2, 68)\n",
      "Tanh : (4, 2, 68)\n",
      "FlattenConsecutive : (4, 136)\n",
      "Linear : (4, 68)\n",
      "BatchNorm1d : (4, 68)\n",
      "Tanh : (4, 68)\n",
      "Linear : (4, 27)\n"
     ]
    }
   ],
   "source": [
    "for layer in model.layers:\n",
    "    print(layer.__class__.__name__, ':', tuple(layer.out.shape))\n",
    "    "
   ]
  },
  {
   "cell_type": "code",
   "execution_count": 90,
   "id": "cc9fd6f9-72b7-4d7c-9be0-3038b86d5ec2",
   "metadata": {},
   "outputs": [
    {
     "name": "stdout",
     "output_type": "stream",
     "text": [
      "      0/ 200000: 2.492016077041626\n",
      "  10000/ 200000: 1.8997282981872559\n",
      "  20000/ 200000: 2.0994479656219482\n",
      "  30000/ 200000: 1.7295345067977905\n",
      "  40000/ 200000: 1.990092158317566\n",
      "  50000/ 200000: 2.187190532684326\n",
      "  60000/ 200000: 1.645751714706421\n",
      "  70000/ 200000: 1.9188963174819946\n",
      "  80000/ 200000: 2.318789482116699\n",
      "  90000/ 200000: 1.8850610256195068\n",
      " 100000/ 200000: 1.894527554512024\n",
      " 110000/ 200000: 2.1336498260498047\n",
      " 120000/ 200000: 1.954216718673706\n",
      " 130000/ 200000: 1.9434220790863037\n",
      " 140000/ 200000: 1.9474472999572754\n",
      " 150000/ 200000: 2.2559704780578613\n",
      " 160000/ 200000: 1.7580848932266235\n",
      " 170000/ 200000: 1.858842134475708\n",
      " 180000/ 200000: 1.8711119890213013\n",
      " 190000/ 200000: 1.8979116678237915\n"
     ]
    }
   ],
   "source": [
    "max_steps = 200000\n",
    "batch_size = 32\n",
    "lossi = []\n",
    "\n",
    "for i in range(max_steps):\n",
    "\t# get batch index\n",
    "\tix = torch.randint(0,Xtr.shape[0], (batch_size,))\n",
    "\t# get embeddings for x and y\n",
    "\tXb, Yb = Xtr[ix], Ytr[ix]\n",
    "\n",
    "\t#forward pass\n",
    "\tlogits = model(Xb)\n",
    "\tloss = F.cross_entropy(logits, Yb)\n",
    "\t\n",
    "\t# backward pass\n",
    "\tfor p in parameters:\n",
    "\t\tp.grad = None\n",
    "\tloss.backward()\n",
    "\n",
    "\t#update\n",
    "\tlr = .1 if i < 100000 else .01\n",
    "\tfor p in parameters:\n",
    "\t\tp.data += -lr * p.grad\n",
    "\n",
    "\t# track stats\n",
    "\tif i % 10000 == 0:\n",
    "\t\tprint(f\"{i:7d}/{max_steps:7d}: {loss.item()}\")\n",
    "\tlossi.append(loss.log10().item())\n",
    "\t#if i == 10000:b\n",
    "\t\t#break\n",
    "\t\n",
    "\t"
   ]
  },
  {
   "cell_type": "code",
   "execution_count": 91,
   "id": "576223db",
   "metadata": {},
   "outputs": [
    {
     "data": {
      "text/plain": [
       "[<matplotlib.lines.Line2D at 0x14c4e3e80>]"
      ]
     },
     "execution_count": 91,
     "metadata": {},
     "output_type": "execute_result"
    },
    {
     "data": {
      "image/png": "[encoded data removed]",
      "text/plain": [
       "<Figure size 640x480 with 1 Axes>"
      ]
     },
     "metadata": {},
     "output_type": "display_data"
    }
   ],
   "source": [
    "plt.plot(torch.tensor(lossi).view(-1,1000).mean(1))"
   ]
  },
  {
   "cell_type": "code",
   "execution_count": null,
   "id": "2d438943",
   "metadata": {},
   "outputs": [],
   "source": [
    "# set layers out of training mode(especially important for batchnorm)\n",
    "for layer in model.layers:\n",
    "\tlayer.training = False"
   ]
  },
  {
   "cell_type": "code",
   "execution_count": 92,
   "id": "bc350bd7-595e-4000-b425-3cf5ae56c38e",
   "metadata": {},
   "outputs": [
    {
     "name": "stdout",
     "output_type": "stream",
     "text": [
      "train 1.9108775854110718\n",
      "val 2.019292116165161\n"
     ]
    }
   ],
   "source": [
    "@torch.no_grad() # decorator disables gradient tracking\n",
    "def split_loss(split):\n",
    "\tx, y = {\n",
    "\t\t'train': (Xtr, Ytr), \n",
    "\t\t'val': (Xdev, Ydev),\n",
    "\t\t'test': (Xtest, Ytest)\n",
    "\t}[split]\n",
    "\t# do forward pass on all training data\n",
    "\tlogits = model(x)\n",
    "\tloss = F.cross_entropy(logits, y)\n",
    "\tprint(split, loss.item())\n",
    "\n",
    "split_loss('train')\n",
    "split_loss('val')"
   ]
  },
  {
   "cell_type": "markdown",
   "id": "59f247a0",
   "metadata": {},
   "source": [
    "**Performance log**\n",
    "- original (3 char context + 200 hidden neurons, 12k params): train 2.058, val 2.105\n",
    "- context: 3 -> 8 (22k params): train 1.918, val 2.027\n",
    "- flat -> hierarchical: (22k params): train 1.94, val 2.029\n",
    "- fix batchnorm1d bug: train 1.912, val, 2.022\n",
    "- trained an extra ~20k steps(? i think): train 1.9108, val 2.019"
   ]
  },
  {
   "cell_type": "code",
   "execution_count": null,
   "id": "f2f6fba3-63c4-4598-9cf5-7c4363a96388",
   "metadata": {},
   "outputs": [
    {
     "name": "stdout",
     "output_type": "stream",
     "text": [
      "erquagmyazzhzevvndhfyaloqetvrsjejdrlrg.\n",
      "azcjedgeliizempqppalekeixvqnwxarveptzcmhvqrpcn.\n",
      "szdbvrgxhgmjest.\n",
      "jcjrwjljqqxntpucfkubzkgvdtrxyqqufmehg.\n",
      "kmejqvskkydmzhjl.\n",
      "cakyybsufpzbjglvjurenjcrtvwsvevoecmpfhdxrfqnxoeobhggptixjsfcueywhkhmreolbiilqiif.\n",
      "evpkxwvlla.\n",
      "odtabfsztjndgoizvsblitbfkxvbsfivpu.\n",
      "meewrkepxcmvyhxavttudkjgczekhgcgtipvtudt.\n",
      "iwbdnihzvorlq.\n",
      "cjakepxugniagcrpcpfmiipzjgvonxet.\n",
      "jydnblksqzporygnogzvmwosfzybsyknvmjcxtkncjbmu.\n",
      "jtew.\n",
      "amw.\n",
      "copmrlxkkdcqbcep.\n",
      "ccdfivsnicimhteymosagouwzlrurdckappomtcokwxtnbnzkdphfam.\n",
      "xconfffuncxzhosynsj.\n",
      "ascnpc.\n",
      "cilwtanczhrdtebimm.\n",
      "ynw.\n"
     ]
    }
   ],
   "source": [
    "# sample from the model\n",
    "g = torch.Generator().manual_seed(2147483647 + 10)\n",
    "\n",
    "for _ in range(20):\n",
    "\t\t\n",
    "\t\tout = []\n",
    "\t\tcontext = [0] * block_size # initialize with all ...\n",
    "\t\twhile True:\n",
    "\t\t\t# forward pass the neural net\n",
    "\t\t\tlogits = model(torch.tensor([context]))\n",
    "\t\t\tprobs = F.softmax(logits, dim=1)\n",
    "\t\t \n",
    "\t\t\t# sample from the distribution\n",
    "\t\t\tix = torch.multinomial(probs, num_samples=1, generator=g).item()\n",
    "\t\t\t# shift the context window and track the samples\n",
    "\t\t\tcontext = context[1:] + [ix]\n",
    "\t\t\tout.append(ix)\n",
    "\t\t\t# if we sample the special '.' token, break\n",
    "\t\t\tif ix == 0:\n",
    "\t\t\t\tbreak\n",
    "\t\t\n",
    "\t\tprint(''.join(itos[i] for i in out)) # decode and print the generated word"
   ]
  },
  {
   "cell_type": "code",
   "execution_count": null,
   "id": "95c37e0e",
   "metadata": {},
   "outputs": [],
   "source": []
  }
 ],
 "metadata": {
  "kernelspec": {
   "display_name": ".venv",
   "language": "python",
   "name": "python3"
  },
  "language_info": {
   "codemirror_mode": {
    "name": "ipython",
    "version": 3
   },
   "file_extension": ".py",
   "mimetype": "text/x-python",
   "name": "python",
   "nbconvert_exporter": "python",
   "pygments_lexer": "ipython3",
   "version": "3.9.6"
  }
 },
 "nbformat": 4,
 "nbformat_minor": 5
}
