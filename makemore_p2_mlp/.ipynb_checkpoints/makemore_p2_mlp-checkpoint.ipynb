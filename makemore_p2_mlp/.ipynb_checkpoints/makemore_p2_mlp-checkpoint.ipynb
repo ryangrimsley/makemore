{
 "cells": [
  {
   "cell_type": "code",
   "execution_count": null,
   "id": "09734074-3611-4129-8ce4-4c2388f39536",
   "metadata": {},
   "outputs": [],
   "source": [
    "import torch\n",
    "import torch.nn.functional as F\n",
    "import matplotlib.pyplot as plt\n",
    "%matplotlib inline"
   ]
  },
  {
   "cell_type": "code",
   "execution_count": null,
   "id": "c99e2083-67a9-4d11-91af-7dc26ad90f2d",
   "metadata": {},
   "outputs": [],
   "source": [
    "f = open(\"../names.txt\", \"r\")\n",
    "words = f.read().splitlines()\n",
    "words[:8]\n",
    "len(words)\n",
    "f.close()"
   ]
  },
  {
   "cell_type": "code",
   "execution_count": null,
   "id": "aa821215-7717-46e8-8dae-a7e30609750a",
   "metadata": {},
   "outputs": [],
   "source": [
    "# build vocab of chars and map to/from ints\n",
    "alphabet = sorted(list(set(''.join(words))))\n",
    "alphabet.insert(0, '.')\n",
    "stoi = {s:i for i, s in enumerate(alphabet)}\n",
    "itos = {i:s for s, i in stoi.items()}"
   ]
  },
  {
   "cell_type": "code",
   "execution_count": 219,
   "id": "ac81aec9-83eb-415c-a51f-da8be1783afe",
   "metadata": {},
   "outputs": [],
   "source": [
    "# build training set\n",
    "block_size = 4\n",
    "# list holding context at every point\n",
    "X = []\n",
    "# list holding all \"desired outputs\"/labels(next char) for every context\n",
    "Y = []\n",
    "\n",
    "for w in words:\n",
    "    # current word were on\n",
    "    #print(w)\n",
    "    # int value for the char in context(starts with 0's aka .'s)\n",
    "    context = [0] * block_size\n",
    "    # for every char in word + end char\n",
    "    for ch in w + '.':\n",
    "        # get numeric representation of character\n",
    "        ix = stoi[ch]\n",
    "        #add context to X\n",
    "        X.append(context)\n",
    "        # add next char(label) to Y\n",
    "        Y.append(ix)\n",
    "        # print the current context and then the next char(label)\n",
    "     #   print(''.join(itos[i] for i in context), '--->', itos[ix])\n",
    "        context = context[1:] + [ix]\n",
    "\n",
    "X = torch.tensor(X)\n",
    "Y = torch.tensor(Y)"
   ]
  },
  {
   "cell_type": "code",
   "execution_count": 220,
   "id": "d5f6219b-7b92-4ee1-bebb-cba9f97e72d8",
   "metadata": {},
   "outputs": [
    {
     "name": "stdout",
     "output_type": "stream",
     "text": [
      "torch.Size([182484, 4]) torch.Size([182484])\n",
      "torch.Size([22869, 4]) torch.Size([22869])\n",
      "torch.Size([22793, 4]) torch.Size([22793])\n"
     ]
    }
   ],
   "source": [
    "# new build dataset, using different training splits ?\n",
    "\n",
    "def build_dataset(words):\n",
    "    block_size = 4\n",
    "    # list holding context at every point\n",
    "    X = []\n",
    "    # list holding all \"desired outputs\"/labels(next char) for every context\n",
    "    Y = []\n",
    "    \n",
    "    for w in words:\n",
    "        # int value for the char in context(starts with 0's aka .'s)\n",
    "        context = [0] * block_size\n",
    "        # for every char in word + end char\n",
    "        for ch in w + '.':\n",
    "            # get numeric representation of character\n",
    "            ix = stoi[ch]\n",
    "            #add context to X\n",
    "            X.append(context)\n",
    "            # add next char(label) to Y\n",
    "            Y.append(ix)\n",
    "            # shift context window over to the right\n",
    "            context = context[1:] + [ix]\n",
    "    \n",
    "    X = torch.tensor(X)\n",
    "    Y = torch.tensor(Y)\n",
    "    print(X.shape, Y.shape)\n",
    "    return X, Y\n",
    "\n",
    "import random\n",
    "random.seed(42)\n",
    "# mix up words\n",
    "random.shuffle(words)\n",
    "# get numeric bounds at 80% of set and 90% if set so training set can be split up in 80 10 10\n",
    "n1 = int(.8*len(words))\n",
    "n2 = int(.9*len(words))\n",
    "# create different training splits\n",
    "Xtr, Ytr = build_dataset(words[0:n1])\n",
    "Xdev, Ydev = build_dataset(words[n1:n2])\n",
    "Xtest, Ytest = build_dataset(words[n2:])"
   ]
  },
  {
   "cell_type": "code",
   "execution_count": 113,
   "id": "3eb341d6-1a6b-436a-9a81-641788e84b81",
   "metadata": {},
   "outputs": [
    {
     "data": {
      "text/plain": [
       "(torch.Size([228146, 4]), torch.Size([27, 2]))"
      ]
     },
     "execution_count": 113,
     "metadata": {},
     "output_type": "execute_result"
    }
   ],
   "source": [
    "# creating lookup table\n",
    "C = torch.randn((27,2))\n",
    "X.shape, C.shape"
   ]
  },
  {
   "cell_type": "code",
   "execution_count": null,
   "id": "467ec57d-3bf5-4897-a06e-0c196f95fbaf",
   "metadata": {},
   "outputs": [],
   "source": [
    "# creating embeddings\n",
    "# for every entry in X(a 0-27 int) this will map its corresponding embedding(a 2d vector)\n",
    "emb = C[X]"
   ]
  },
  {
   "cell_type": "code",
   "execution_count": null,
   "id": "157c68f5-031b-470d-89e5-bf1efc2c6d2b",
   "metadata": {},
   "outputs": [],
   "source": [
    "# creating weights?\n",
    "#               inputs  neurons\n",
    "W1 = torch.randn((6,     100))\n",
    "b1 = torch.randn(100)"
   ]
  },
  {
   "cell_type": "code",
   "execution_count": null,
   "id": "5f081ea3-7e8e-4f51-abc3-5878c41a29e2",
   "metadata": {},
   "outputs": [],
   "source": [
    "# works bc .view derives -1 as the size needed for it to be equivalenet using 6, so the\n",
    "# x by 3 by 2 arr becomes x by 6, which can be multiplied by W, which is 6 by x\n",
    "h = torch.tanh(emb.view(-1, 6) @ W1 + b1)\n",
    "# hidden layer output, fed into next layer which gives 27 outputs bc there are 27 possible chars, so those\n",
    "# will be normalized into 27 different probabilities\n",
    "h"
   ]
  },
  {
   "cell_type": "code",
   "execution_count": null,
   "id": "cbe73655-5b2c-4295-b421-47ca672dc72c",
   "metadata": {},
   "outputs": [],
   "source": [
    "logits = h @ W2 + b2\n",
    "logits.shape\n"
   ]
  },
  {
   "cell_type": "code",
   "execution_count": null,
   "id": "b28909e8-63d2-408b-80ca-999401594179",
   "metadata": {},
   "outputs": [],
   "source": [
    "# softmax function\n",
    "# the \"counts\" of every next char, which will be summed and normalized\n",
    "counts = logits.exp()\n",
    "# get probabilities of every next char, by summing all the \"counts\" in every row and dividing each entry in row by that sum\n",
    "prob = counts / counts.sum(1, keepdims=True)"
   ]
  },
  {
   "cell_type": "code",
   "execution_count": 200,
   "id": "01f966ec-f9c2-4dba-bf7d-d9bfb1b444c4",
   "metadata": {},
   "outputs": [
    {
     "data": {
      "text/plain": [
       "22432"
      ]
     },
     "execution_count": 200,
     "metadata": {},
     "output_type": "execute_result"
    }
   ],
   "source": [
    "# everything above(the parameter creation), but organized\n",
    "g = torch.Generator().manual_seed(2147483647)\n",
    "# lookup table, the mapping of every int representation of char to a 2d vector\n",
    "C = torch.randn(27, 15, generator=g)\n",
    "# weights and biases\n",
    "W1 = torch.randn(60, 250, generator=g)\n",
    "b1 = torch.randn(250, generator=g)\n",
    "W2 = torch.randn(250, 27, generator=g)\n",
    "b2 = torch.randn(27, generator=g)\n",
    "# all parameters\n",
    "parameters = [C,W1,b1,W2,b2]\n",
    "# every context in X mapped as its 2d vector form\n",
    "# emb = C[X]\n",
    "# h = torch.tanh(emb.view(-1,6) @ W1 + b1)\n",
    "# logits = h @ W2 + b2\n",
    "# counts = logits.exp()\n",
    "# prob = counts / counts.sum(1, keepdims=True)\n",
    "# loss = -prob[torch.arange(32), Y].log().mean()\n",
    "# loss\n",
    "sum(p.nelement() for p in parameters) # num of params"
   ]
  },
  {
   "cell_type": "code",
   "execution_count": null,
   "id": "551a8cae-9165-49fb-990e-e3b8a618cc97",
   "metadata": {},
   "outputs": [],
   "source": [
    "# a pytorch function to do:\n",
    "# counts = logits.exp()\n",
    "# prob = counts / counts.sum(1, keepdims=True)\n",
    "# loss = -prob[torch.arange(32), Y].log().mean()\n",
    "\n",
    "loss = F.cross_entropy(logits, Y)\n",
    "loss"
   ]
  },
  {
   "cell_type": "code",
   "execution_count": 201,
   "id": "254ba136-a07b-45d3-861d-9c3ee7e5435c",
   "metadata": {},
   "outputs": [],
   "source": [
    "for p in parameters:\n",
    "    p.requires_grad = True"
   ]
  },
  {
   "cell_type": "code",
   "execution_count": 207,
   "id": "329245b2-d34c-457f-894a-ceae4140ab45",
   "metadata": {},
   "outputs": [
    {
     "data": {
      "text/plain": [
       "tensor([0.1000, 0.1000, 0.1000,  ..., 0.0010, 0.0010, 0.0010])"
      ]
     },
     "execution_count": 207,
     "metadata": {},
     "output_type": "execute_result"
    }
   ],
   "source": [
    "# finding good learning rate\n",
    "# creates list of 1000 numbers evenly spaced from .001 to 1\n",
    "# learning rate exponent\n",
    "lre = torch.linspace(-1, -3, 100000)\n",
    "#learning rates\n",
    "lrs = 10**lre\n",
    "# do exponent so you can do more examples on the lower side, and less on the higher side which is probably worse\n",
    "lrs"
   ]
  },
  {
   "cell_type": "code",
   "execution_count": 213,
   "id": "4b61d584-4843-4426-9e3e-9a0273cf7d23",
   "metadata": {},
   "outputs": [],
   "source": [
    "lri = []\n",
    "lossi = []\n",
    "stepi = []"
   ]
  },
  {
   "cell_type": "code",
   "execution_count": 214,
   "id": "54ea7a6a-bb99-4a86-809e-a3ef02405a99",
   "metadata": {},
   "outputs": [],
   "source": [
    "for i in range(100000):\n",
    "    # minibatch construction\n",
    "    # select some portion of data (minibatch) and iterate(do forward and backward pass) on that small portion\n",
    "    minibatch_size = 32\n",
    "    low, high = 0, Xtr.shape[0]\n",
    "    ix = torch.randint(low,high,(minibatch_size,))    \n",
    "    # forward pass\n",
    "    emb = C[Xtr[ix]]\n",
    "    # must view (-1, embedding_vector_size * block_size)\n",
    "    h = torch.tanh(emb.view(-1,60) @ W1 + b1)\n",
    "    logits = h @ W2 + b2\n",
    "    # also index into Y using same ix as used to index into X\n",
    "    loss = F.cross_entropy(logits, Ytr[ix])\n",
    "    #print(loss.item())\n",
    "    # backward pass\n",
    "    for p in parameters:\n",
    "        # none same as 0 in pytorch\n",
    "        p.grad = None\n",
    "    loss.backward()\n",
    "\n",
    "    # update\n",
    "    # learning rate\n",
    "    #lr = lrs[i]\n",
    "    # use optimal learning rate we found\n",
    "    lr = .001\n",
    "    for p in parameters:\n",
    "        p.data += -lr * p.grad\n",
    "    # dont need to track anymore as we found optimal lr\n",
    "    # # track stats\n",
    "    # # track the learning rate exponent for this iteration(i)\n",
    "    #lri.append(lre[i])\n",
    "    # # track the loss for this iteration(i)\n",
    "    #lossi.append(loss.log10().item())\n",
    "    lossi.append(loss.item())\n",
    "    stepi.append(i)\n",
    "        \n",
    "#print(loss.item())"
   ]
  },
  {
   "cell_type": "code",
   "execution_count": 215,
   "id": "5ca31b74-a121-47a4-8980-52c43c482851",
   "metadata": {},
   "outputs": [
    {
     "data": {
      "text/plain": [
       "[<matplotlib.lines.Line2D at 0x7faca607ae80>]"
      ]
     },
     "execution_count": 215,
     "metadata": {},
     "output_type": "execute_result"
    },
    {
     "data": {
      "image/png": "[encoded data removed]",
      "text/plain": [
       "<Figure size 640x480 with 1 Axes>"
      ]
     },
     "metadata": {},
     "output_type": "display_data"
    }
   ],
   "source": [
    "plt.plot(stepi, lossi)"
   ]
  },
  {
   "cell_type": "code",
   "execution_count": null,
   "id": "8a666a6f-923b-431e-b8de-de323d1c3794",
   "metadata": {},
   "outputs": [],
   "source": [
    "#plotting the effect of learning rate on loss\n",
    "plt.plot(lri, lossi)"
   ]
  },
  {
   "cell_type": "code",
   "execution_count": null,
   "id": "e36a64a7-f810-48a9-9a8d-9b10fb5ca7b7",
   "metadata": {},
   "outputs": [],
   "source": [
    "# ^ tells us that a learning rate exponent around [-.75,-1] is good, at the minimum of the parabola-ish shape\n",
    "# but when model is plateauing with learning rate, people like to decrease the learning rate as it gets \n",
    "# closer to optimized, about 1/10th of the rate, called learning rate decay"
   ]
  },
  {
   "cell_type": "code",
   "execution_count": 216,
   "id": "fbd2f3f3-a823-4294-aff5-2d3bd1ca490e",
   "metadata": {},
   "outputs": [
    {
     "data": {
      "text/plain": [
       "tensor(2.1675, grad_fn=<NllLossBackward0>)"
      ]
     },
     "execution_count": 216,
     "metadata": {},
     "output_type": "execute_result"
    }
   ],
   "source": [
    "emb = C[Xdev]\n",
    "h = torch.tanh(emb.view(-1,60) @ W1 + b1)\n",
    "logits = h @ W2 + b2\n",
    "# also index into Y using same ix as used to index into X\n",
    "loss = F.cross_entropy(logits, Ydev)\n",
    "loss"
   ]
  },
  {
   "cell_type": "code",
   "execution_count": 217,
   "id": "325664d5-f824-40b0-b79a-1c4cf4990544",
   "metadata": {},
   "outputs": [
    {
     "data": {
      "text/plain": [
       "tensor(2.1272, grad_fn=<NllLossBackward0>)"
      ]
     },
     "execution_count": 217,
     "metadata": {},
     "output_type": "execute_result"
    }
   ],
   "source": [
    "emb = C[Xtr]\n",
    "h = torch.tanh(emb.view(-1,60) @ W1 + b1)\n",
    "logits = h @ W2 + b2\n",
    "# also index into Y using same ix as used to index into X\n",
    "loss = F.cross_entropy(logits, Ytr)\n",
    "loss"
   ]
  },
  {
   "cell_type": "code",
   "execution_count": null,
   "id": "996890fb-7bb8-43dd-a5ba-aedc76ffbc46",
   "metadata": {},
   "outputs": [],
   "source": [
    "# as paramters get larger, it is more likely for model to overfit data aka just memorize completely\n",
    "# what its training on, so in industry dataset is generally split up into 3 splits:\n",
    "# training split, dev/validation split, test split\n",
    "# 80%, 10%, 10%\n",
    "# training split used to train parameters, dev/validation split used to train hyper parameters(size of layers, size of embeddings),\n",
    "# test used to evaluate performance of model, use test split sparingly, so you dont overfit to the test as well\n",
    "### I am creating these splits in the cell below the original build dataset cell, in build_dataset function"
   ]
  },
  {
   "cell_type": "code",
   "execution_count": 221,
   "id": "32dc3fb1-5461-4b9f-836e-f1d51835ec41",
   "metadata": {},
   "outputs": [
    {
     "name": "stdout",
     "output_type": "stream",
     "text": [
      "raza.\n",
      "nani.\n",
      "amiillen.\n",
      "zhay.\n",
      "avasi.\n",
      "siam.\n",
      "sisha.\n",
      "weofo.\n",
      "zedyn.\n",
      "damadahron.\n",
      "kaelah.\n",
      "lolah.\n",
      "zaice.\n",
      "jayan.\n",
      "jannadary.\n",
      "lhriko.\n",
      "laelo.\n",
      "cavyahell.\n",
      "amiri.\n",
      "saiten.\n"
     ]
    }
   ],
   "source": [
    "# sample from model\n",
    "\n",
    "for _ in range(20):\n",
    "    out = []\n",
    "    context = [0] * block_size\n",
    "    while True:\n",
    "        # get embeddings? \n",
    "        emb = C[torch.tensor([context])] # embeddings for everything in current context\n",
    "        h = torch.tanh(emb.view(1,-1) @ W1 + b1)\n",
    "        logits = h @ W2 + b2\n",
    "        probs = F.softmax(logits, dim=1)\n",
    "        ix = torch.multinomial(probs, num_samples=1, generator=g).item()\n",
    "        # shift context to the right\n",
    "        context = context[1:] + [ix]\n",
    "        out.append(itos[ix])\n",
    "        # if reach end character, break\n",
    "        if ix == 0:\n",
    "            break\n",
    "            \n",
    "    print(''.join(out))"
   ]
  },
  {
   "cell_type": "code",
   "execution_count": null,
   "id": "710b0436-292a-4a31-8cc6-7b7bf6dbacf5",
   "metadata": {},
   "outputs": [],
   "source": []
  }
 ],
 "metadata": {
  "kernelspec": {
   "display_name": "Python 3 (ipykernel)",
   "language": "python",
   "name": "python3"
  },
  "language_info": {
   "codemirror_mode": {
    "name": "ipython",
    "version": 3
   },
   "file_extension": ".py",
   "mimetype": "text/x-python",
   "name": "python",
   "nbconvert_exporter": "python",
   "pygments_lexer": "ipython3",
   "version": "3.9.6"
  }
 },
 "nbformat": 4,
 "nbformat_minor": 5
}
