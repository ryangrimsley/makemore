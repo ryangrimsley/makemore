{
 "cells": [
  {
   "cell_type": "code",
   "execution_count": 16,
   "id": "b83e6645-c666-4b23-9c38-e7fa55e0376e",
   "metadata": {},
   "outputs": [],
   "source": [
    "import torch\n",
    "import torch.nn.functional as F\n",
    "import matplotlib.pyplot as plt # for making figures\n",
    "import numpy as np\n",
    "%matplotlib inline"
   ]
  },
  {
   "cell_type": "code",
   "execution_count": 3,
   "id": "8300eab2-def8-4092-908e-b096c6f8611b",
   "metadata": {},
   "outputs": [
    {
     "data": {
      "text/plain": [
       "['emma', 'olivia', 'ava', 'isabella', 'sophia', 'charlotte', 'mia', 'amelia']"
      ]
     },
     "execution_count": 3,
     "metadata": {},
     "output_type": "execute_result"
    }
   ],
   "source": [
    "# read in all the words\n",
    "words = open('../names.txt', 'r').read().splitlines()\n",
    "words[:8]"
   ]
  },
  {
   "cell_type": "code",
   "execution_count": 4,
   "id": "4eb82107-29f4-449f-b901-39dbbcbe22d3",
   "metadata": {},
   "outputs": [
    {
     "data": {
      "text/plain": [
       "32033"
      ]
     },
     "execution_count": 4,
     "metadata": {},
     "output_type": "execute_result"
    }
   ],
   "source": [
    "len(words)"
   ]
  },
  {
   "cell_type": "code",
   "execution_count": 5,
   "id": "07511509-b3c1-4f96-95ab-485fc129d01f",
   "metadata": {},
   "outputs": [
    {
     "name": "stdout",
     "output_type": "stream",
     "text": [
      "{1: 'a', 2: 'b', 3: 'c', 4: 'd', 5: 'e', 6: 'f', 7: 'g', 8: 'h', 9: 'i', 10: 'j', 11: 'k', 12: 'l', 13: 'm', 14: 'n', 15: 'o', 16: 'p', 17: 'q', 18: 'r', 19: 's', 20: 't', 21: 'u', 22: 'v', 23: 'w', 24: 'x', 25: 'y', 26: 'z', 0: '.'}\n",
      "27\n"
     ]
    }
   ],
   "source": [
    "# build vocabulary of characters and mappings to/from integers\n",
    "chars = sorted(list(set(''.join(words))))\n",
    "stoi = {s:i+1 for i, s in enumerate(chars)}\n",
    "stoi['.'] = 0\n",
    "itos = {i:s for s, i in stoi.items()}\n",
    "vocab_size = len(itos)\n",
    "print(itos)\n",
    "print(vocab_size)"
   ]
  },
  {
   "cell_type": "code",
   "execution_count": 6,
   "id": "bf640a95-7b0f-49c6-ad4a-96f2b00cfb9b",
   "metadata": {},
   "outputs": [
    {
     "name": "stdout",
     "output_type": "stream",
     "text": [
      "torch.Size([182625, 3]) torch.Size([182625])\n",
      "torch.Size([22655, 3]) torch.Size([22655])\n",
      "torch.Size([22866, 3]) torch.Size([22866])\n"
     ]
    }
   ],
   "source": [
    "# build dataset\n",
    "#size of the context\n",
    "block_size = 3\n",
    "\n",
    "def build_dataset(words):\n",
    "    X, Y = [], []\n",
    "\n",
    "    for w in words:\n",
    "        context = [0] * block_size\n",
    "        for ch in w + '.':\n",
    "            ix = stoi[ch] # get integer value of char\n",
    "            X.append(context) # add current context to X, the set of all contexts\n",
    "            Y.append(ix) # add char after context to Y, the output based on corresponding context\n",
    "            context = context[1:] + [ix] # drop the first thing in the context and add the last to the end\n",
    "    X = torch.tensor(X)\n",
    "    Y = torch.tensor(Y)\n",
    "    print(X.shape, Y.shape)\n",
    "    return X, Y\n",
    "\n",
    "#make training, validation, and test training sets\n",
    "import random\n",
    "random.seed(42)\n",
    "random.shuffle(words)\n",
    "n1 = int(0.8*len(words))\n",
    "n2 = int(0.9*len(words))\n",
    "\n",
    "Xtr, Ytr = build_dataset(words[:n1])\n",
    "Xdev, Ydev = build_dataset(words[n1:n2])\n",
    "Xtest, Ytest = build_dataset(words[n2:])\n"
   ]
  },
  {
   "cell_type": "code",
   "execution_count": 66,
   "id": "5445dbc8-3b57-428e-8767-daa3d54d796f",
   "metadata": {},
   "outputs": [
    {
     "name": "stdout",
     "output_type": "stream",
     "text": [
      "11697\n"
     ]
    }
   ],
   "source": [
    "# MLP revisited\n",
    "n_embd = 10 # the dimensionality of the character embedding vectors\n",
    "n_hidden = 200 # the number of neurons in the hidden layer of the MLP\n",
    "\n",
    "g = torch.Generator().manual_seed(2147483647) # for reproducibility\n",
    "C  = torch.randn((vocab_size, n_embd),            generator=g)\n",
    "W1 = torch.randn((n_embd * block_size, n_hidden), generator=g) * (5/3) / ((n_embd * block_size)**.5) #5/3 is gain for tanh, divided by the sqr of the fann(number of inputs)\n",
    "b1 = torch.randn(n_hidden,                        generator=g) * .01 # have initialization have a little entropy, but dont make it too large\n",
    "W2 = torch.randn((n_hidden, vocab_size),          generator=g) * .01 # so that w2 is small numbers, reducing size of logits at init and reducing loss at init\n",
    "b2 = torch.randn(vocab_size,                      generator=g) * 0 #so that b2 is 0 at initialization, making loss at init better\n",
    "\n",
    "parameters = [C, W1, W2, b2]\n",
    "print(sum(p.nelement() for p in parameters)) # number of parameters in total\n",
    "for p in parameters:\n",
    "    p.requires_grad = True"
   ]
  },
  {
   "cell_type": "code",
   "execution_count": 73,
   "id": "c246777f-67a8-4a03-b504-f9314533dadd",
   "metadata": {},
   "outputs": [
    {
     "name": "stdout",
     "output_type": "stream",
     "text": [
      "tensor(0.0004) tensor(1.0107)\n",
      "tensor(-5.6152e-05) tensor(0.9627)\n"
     ]
    },
    {
     "data": {
      "image/png": "[encoded data removed]",
      "text/plain": [
       "<Figure size 2000x500 with 2 Axes>"
      ]
     },
     "metadata": {},
     "output_type": "display_data"
    }
   ],
   "source": [
    "# showinng how multiplying weights by a constant at init can have an effect on the distribution of the output\n",
    "# and we want output to generally be normal (0 mean, 1 std)\n",
    "x = torch.randn(1000,10)\n",
    "w = torch.randn(10,200) * .3\n",
    "y = x @ w\n",
    "print(x.mean(), x.std())\n",
    "print(y.mean(), y.std())\n",
    "plt.figure(figsize=(20,5))\n",
    "plt.subplot(121)\n",
    "plt.xlabel('X distribution', fontsize=12)\n",
    "plt.hist(x.view(-1).tolist(),50,density=True);\n",
    "plt.subplot(122)\n",
    "plt.xlabel('Y distribution', fontsize=12)\n",
    "plt.hist(y.view(-1).tolist(),50,density=True);"
   ]
  },
  {
   "cell_type": "code",
   "execution_count": 70,
   "id": "a5ce522b-07b8-4bb2-a48f-bff438415321",
   "metadata": {},
   "outputs": [
    {
     "name": "stdout",
     "output_type": "stream",
     "text": [
      "      0/ 200000: 3.3179\n",
      "  10000/ 200000: 2.1928\n",
      "  20000/ 200000: 2.3333\n",
      "  30000/ 200000: 2.5376\n",
      "  40000/ 200000: 1.9618\n",
      "  50000/ 200000: 2.3344\n",
      "  60000/ 200000: 2.3849\n",
      "  70000/ 200000: 2.1605\n",
      "  80000/ 200000: 2.3181\n",
      "  90000/ 200000: 2.2200\n",
      " 100000/ 200000: 1.8285\n",
      " 110000/ 200000: 2.1300\n",
      " 120000/ 200000: 1.9468\n",
      " 130000/ 200000: 2.3329\n",
      " 140000/ 200000: 2.1031\n",
      " 150000/ 200000: 2.1707\n",
      " 160000/ 200000: 1.7701\n",
      " 170000/ 200000: 1.7840\n",
      " 180000/ 200000: 1.9529\n",
      " 190000/ 200000: 1.8062\n"
     ]
    }
   ],
   "source": [
    "# same optimization as last time\n",
    "max_steps = 200000\n",
    "batch_size = 32\n",
    "lossi = []\n",
    "\n",
    "for i in range(max_steps):\n",
    "  \n",
    "    # minibatch construct\n",
    "    ix = torch.randint(0, Xtr.shape[0], (batch_size,), generator=g)\n",
    "    Xb, Yb = Xtr[ix], Ytr[ix] # batch X,Y\n",
    "    \n",
    "    # forward pass\n",
    "    emb = C[Xb] # embed the characters into vectors\n",
    "    embcat = emb.view(emb.shape[0], -1) # concatenate the vectors\n",
    "    hpreact = embcat @ W1 + b1 # hidden layer pre-activation(want these to be roughly gaussian)\n",
    "    # normalize h pre reaction to be roughly gaussian ( batch normalization)\n",
    "    hpreact = (hpreact - hpreact.mean(0, keepdims=True))/hpreact.std(0, keepdims=True)\n",
    "    h = torch.tanh(hpreact) # hidden layer\n",
    "    logits = h @ W2 + b2 # output layer\n",
    "    loss = F.cross_entropy(logits, Yb) # loss function\n",
    "\n",
    "    #backward pass\n",
    "    for p in parameters:\n",
    "        p.grad = None\n",
    "    loss.backward()\n",
    "\n",
    "    #update\n",
    "    lr = .1 if i < 100000 else .01 # step learning rate decay\n",
    "    for p in parameters:\n",
    "        p.data += -lr * p.grad\n",
    "    # track stats\n",
    "    if i % 10000 == 0: # print every once in a while\n",
    "        print(f\"{i:7d}/{max_steps:7d}: {loss.item():.4f}\")\n",
    "    lossi.append(loss.log10().item())"
   ]
  },
  {
   "cell_type": "code",
   "execution_count": 59,
   "id": "b17da77e-d71d-44f7-bd0c-26c5e4753274",
   "metadata": {},
   "outputs": [
    {
     "data": {
      "text/plain": [
       "[<matplotlib.lines.Line2D at 0x7f7908b3da60>]"
      ]
     },
     "execution_count": 59,
     "metadata": {},
     "output_type": "execute_result"
    },
    {
     "data": {
      "image/png": "[encoded data removed]",
      "text/plain": [
       "<Figure size 640x480 with 1 Axes>"
      ]
     },
     "metadata": {},
     "output_type": "display_data"
    }
   ],
   "source": [
    "plt.plot(lossi)"
   ]
  },
  {
   "cell_type": "code",
   "execution_count": 52,
   "id": "e4f4b414-654a-453a-ad8b-73b4886c6c8f",
   "metadata": {},
   "outputs": [
    {
     "data": {
      "text/plain": [
       "(tensor([ 5.5019, -3.6957, -8.5044,  2.9091]),\n",
       " tensor([9.3030e-01, 9.4230e-05, 7.6878e-07, 6.9600e-02]),\n",
       " tensor(14.0785))"
      ]
     },
     "execution_count": 52,
     "metadata": {},
     "output_type": "execute_result"
    }
   ],
   "source": [
    "# testing out why setting weights and biases randomly(which affect logits), is bad for initial loss, because at initialization\n",
    "# every char should have equal probablity\n",
    "#logits = torch.tensor([1.0, 1.0, 1.0, 1.0])\n",
    "logits = torch.randn(4) * 10\n",
    "probs = torch.softmax(logits, dim=0)\n",
    "loss = -probs[2].log()\n",
    "logits, probs, loss"
   ]
  },
  {
   "cell_type": "code",
   "execution_count": 72,
   "id": "bc350bd7-595e-4000-b425-3cf5ae56c38e",
   "metadata": {},
   "outputs": [
    {
     "name": "stdout",
     "output_type": "stream",
     "text": [
      "train 2.0394742488861084\n",
      "val 2.109386444091797\n"
     ]
    }
   ],
   "source": [
    "@torch.no_grad() # decorator disables gradient tracking\n",
    "def split_loss(split):\n",
    "    x, y = {\n",
    "        'train': (Xtr, Ytr), \n",
    "        'val': (Xdev, Ydev),\n",
    "        'test': (Xtest, Ytest)\n",
    "    }[split]\n",
    "    emb = C[x]\n",
    "    embcat = emb.view(emb.shape[0], -1)\n",
    "    hpreact = embcat @ W1 + b1\n",
    "    h = torch.tanh(hpreact)\n",
    "    logits = h @ W2 + b2\n",
    "    loss = F.cross_entropy(logits, y)\n",
    "    print(split, loss.item())\n",
    "\n",
    "split_loss('train')\n",
    "split_loss('val')"
   ]
  },
  {
   "cell_type": "code",
   "execution_count": null,
   "id": "7da9436a-07f1-4dd8-b36d-88d5f61501e3",
   "metadata": {},
   "outputs": [],
   "source": [
    "# loss log\n",
    "\n",
    "# original\n",
    "train 2.12453\n",
    "val 2.16819\n",
    "\n",
    "# fix softmax confidently wrong(initial logits too varied, so softmax had more confidence in wrong answers, needing time to train and fix )\n",
    "train 2.07\n",
    "val 2.13\n",
    "\n",
    "# fix tanh layer too saturated at init(hidden pre react values too far from zero so many tanh outputs were -1 or 1, which means gradient at that point is 0 and model never learns from those examples)\n",
    "train 2.0355\n",
    "val 2.1026"
   ]
  },
  {
   "cell_type": "code",
   "execution_count": 13,
   "id": "e385dc92-efc9-4140-9d59-e22a320e8c89",
   "metadata": {},
   "outputs": [
    {
     "name": "stdout",
     "output_type": "stream",
     "text": [
      "mora.\n",
      "mayah.\n",
      "seel.\n",
      "ndalyah.\n",
      "ren.\n",
      "rucendraegusterronelin.\n",
      "shi.\n",
      "jen.\n",
      "eden.\n",
      "est.\n",
      "aarvelyzion.\n",
      "kamin.\n",
      "shub.\n",
      "roshirael.\n",
      "kin.\n",
      "renlynn.\n",
      "novana.\n",
      "ubelled.\n",
      "ryyah.\n",
      "fael.\n"
     ]
    }
   ],
   "source": [
    "# sample from the model\n",
    "g = torch.Generator().manual_seed(2147483647 + 10)\n",
    "\n",
    "for _ in range(20):\n",
    "    \n",
    "    out = []\n",
    "    context = [0] * block_size # initialize with all ...\n",
    "    while True:\n",
    "      # forward pass the neural net\n",
    "      emb = C[torch.tensor([context])] # (1,block_size,n_embd)\n",
    "      h = torch.tanh(emb.view(1, -1) @ W1 + b1) # concatenate the vectors\n",
    "      logits = h @ W2 + b2\n",
    "      probs = F.softmax(logits, dim=1)\n",
    "      # sample from the distribution\n",
    "      ix = torch.multinomial(probs, num_samples=1, generator=g).item()\n",
    "      # shift the context window and track the samples\n",
    "      context = context[1:] + [ix]\n",
    "      out.append(ix)\n",
    "      # if we sample the special '.' token, break\n",
    "      if ix == 0:\n",
    "        break\n",
    "    \n",
    "    print(''.join(itos[i] for i in out)) # decode and print the generated word"
   ]
  },
  {
   "cell_type": "code",
   "execution_count": null,
   "id": "e2f02cfe-b7f4-40d3-b8a3-b29f291fc581",
   "metadata": {},
   "outputs": [],
   "source": []
  }
 ],
 "metadata": {
  "kernelspec": {
   "display_name": "Python 3 (ipykernel)",
   "language": "python",
   "name": "python3"
  },
  "language_info": {
   "codemirror_mode": {
    "name": "ipython",
    "version": 3
   },
   "file_extension": ".py",
   "mimetype": "text/x-python",
   "name": "python",
   "nbconvert_exporter": "python",
   "pygments_lexer": "ipython3",
   "version": "3.9.6"
  }
 },
 "nbformat": 4,
 "nbformat_minor": 5
}
